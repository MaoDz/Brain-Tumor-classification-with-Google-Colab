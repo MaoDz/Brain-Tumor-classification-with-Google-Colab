{
  "cells": [
    {
      "cell_type": "markdown",
      "metadata": {
        "id": "FZwgD9C6chMk"
      },
      "source": [
        "## Librairies"
      ]
    },
    {
      "cell_type": "code",
      "execution_count": null,
      "metadata": {
        "colab": {
          "base_uri": "https://localhost:8080/"
        },
        "id": "YVFaQU0nGyHJ",
        "outputId": "62b92df1-2e0d-4130-82ec-600bbb3933f0"
      },
      "outputs": [],
      "source": [
        "!pip install mat73"
      ]
    },
    {
      "cell_type": "code",
      "execution_count": null,
      "metadata": {
        "id": "Dd0N5GUNVCYU"
      },
      "outputs": [],
      "source": [
        "import os\n",
        "os.environ['CUDA_LAUNCH_BLOCKING'] = \"1\"\n",
        "\n",
        "import keras\n",
        "import keras.regularizers as regularizers\n",
        "from keras import backend as K\n",
        "from keras.applications import InceptionV3\n",
        "from keras.models import Sequential\n",
        "from keras.layers import Conv2D,Flatten,Dense,MaxPooling2D,Dropout,AvgPool2D,Activation,BatchNormalization\n",
        "from sklearn.metrics import accuracy_score, confusion_matrix"
      ]
    },
    {
      "cell_type": "code",
      "execution_count": null,
      "metadata": {
        "id": "L4YQd_xsVAEs"
      },
      "outputs": [],
      "source": [
        "import ipywidgets as widgets\n",
        "import io\n",
        "import cv2\n",
        "import matplotlib.pyplot as plt\n",
        "import seaborn as sns\n",
        "import skimage\n",
        "import numpy as np\n",
        "from PIL import Image\n",
        "import tqdm\n",
        "from mat73 import loadmat\n",
        "from sklearn.model_selection import train_test_split\n",
        "import cv2\n",
        "from sklearn.utils import shuffle\n",
        "import tensorflow as tf"
      ]
    },
    {
      "cell_type": "markdown",
      "metadata": {
        "id": "pqVjK-LIOkPS"
      },
      "source": [
        "## Custom functions"
      ]
    },
    {
      "cell_type": "code",
      "execution_count": null,
      "metadata": {
        "id": "zJ2ydwj9OsIE"
      },
      "outputs": [],
      "source": [
        "# functions below : https://datascience.stackexchange.com/questions/45165/how-to-get-accuracy-f1-precision-and-recall-for-a-keras-model\n",
        "def recall_m(y_true, y_pred):\n",
        "    true_positives = K.sum(K.round(K.clip(y_true * y_pred, 0, 1)))\n",
        "    possible_positives = K.sum(K.round(K.clip(y_true, 0, 1)))\n",
        "    recall = true_positives / (possible_positives + K.epsilon())\n",
        "    return recall\n",
        "\n",
        "def precision_m(y_true, y_pred):\n",
        "    true_positives = K.sum(K.round(K.clip(y_true * y_pred, 0, 1)))\n",
        "    predicted_positives = K.sum(K.round(K.clip(y_pred, 0, 1)))\n",
        "    precision = true_positives / (predicted_positives + K.epsilon())\n",
        "    return precision\n",
        "\n",
        "def f1_m(y_true, y_pred):\n",
        "    precision = precision_m(y_true, y_pred)\n",
        "    recall = recall_m(y_true, y_pred)\n",
        "    return 2*((precision*recall)/(precision+recall+K.epsilon()))"
      ]
    },
    {
      "cell_type": "code",
      "execution_count": null,
      "metadata": {
        "id": "0JDBjl4Rhr5O"
      },
      "outputs": [],
      "source": [
        "def show_confusion_matrix(cm, labels):\n",
        "  plt.figure(figsize=(10, 8))\n",
        "  sns.heatmap(cm, xticklabels=labels, yticklabels=labels, \n",
        "              annot=True, fmt='g')\n",
        "  plt.xlabel('Prediction')\n",
        "  plt.ylabel('Label')\n",
        "  plt.title('Confusion Matrix')\n",
        "  plt.show()\n",
        "\n",
        "def show_confusion_matrix_norm(cm, labels):\n",
        "  cmn = cm.astype('float') / cm.sum(axis=1)[:, np.newaxis]\n",
        "  fig, ax = plt.subplots(figsize=(10,10))\n",
        "  sns.heatmap(cmn, annot=True, fmt='.2f', xticklabels=label_names, yticklabels=label_names)\n",
        "  plt.ylabel('Actual')\n",
        "  plt.xlabel('Predicted')\n",
        "  plt.title('Confusion Matrix Normalized')\n",
        "  plt.show(block=False)\n",
        "\n",
        "\n",
        "label_names = ['Meningioma', 'Glioma', 'Pituitary tumor']"
      ]
    },
    {
      "cell_type": "code",
      "execution_count": null,
      "metadata": {
        "id": "d9BEoWHwh2B0"
      },
      "outputs": [],
      "source": [
        "# https://www.w3schools.com/python/python_ml_auc_roc.asp\n",
        "\n",
        "import matplotlib.pyplot as plt\n",
        "from sklearn.metrics import accuracy_score, confusion_matrix, roc_auc_score, roc_curve\n",
        "\n",
        "def plot_roc_curve(true_y, y_prob):\n",
        "    \"\"\"\n",
        "    plots the roc curve based of the probabilities\n",
        "    \"\"\"\n",
        "\n",
        "    fpr, tpr, thresholds = roc_curve(true_y, y_prob)\n",
        "    plt.plot(fpr, tpr)\n",
        "    plt.xlabel('False Positive Rate')\n",
        "    plt.ylabel('True Positive Rate')"
      ]
    },
    {
      "cell_type": "code",
      "execution_count": null,
      "metadata": {
        "colab": {
          "base_uri": "https://localhost:8080/"
        },
        "id": "-oN-p1kRjcb2",
        "outputId": "b4b76faf-b034-47e1-d07f-acd8c79076cb"
      },
      "outputs": [],
      "source": [
        "from google.colab import drive\n",
        "drive.mount('/content/drive')"
      ]
    },
    {
      "cell_type": "markdown",
      "metadata": {
        "id": "gc0_x0ogckGD"
      },
      "source": [
        "## Data"
      ]
    },
    {
      "cell_type": "markdown",
      "metadata": {
        "id": "YwjnnrUdzfWq"
      },
      "source": [
        "### Lecture des données"
      ]
    },
    {
      "cell_type": "code",
      "execution_count": null,
      "metadata": {
        "id": "5xxDd6DXUbCp"
      },
      "outputs": [],
      "source": [
        "# Sauvegarde des chemins de chacun des .mat\n",
        "datapath = '/content/drive/MyDrive/Data_SYS843/'\n",
        "imagespaths = []\n",
        "for root, dirs, files in os.walk(datapath, topdown=False):\n",
        "   for name in files:\n",
        "      imagespaths.append(os.path.join(root, name))\n",
        "\n",
        "images = []\n",
        "labels = []\n",
        "img_size = 299\n",
        "\n",
        "for path in imagespaths:\n",
        "  x = loadmat(path)\n",
        "  img = cv2.resize(x['cjdata']['image'],dsize=(img_size, img_size), interpolation=cv2.INTER_LINEAR)\n",
        "  cv2.normalize(img, img, 0, 255, cv2.NORM_MINMAX)\n",
        "  img = np.uint8(img)\n",
        "  # img = cv2.equalizeHist(img)\n",
        "  images.append(img)\n",
        "  label = x['cjdata']['label']\n",
        "  label = label.astype(int)-1\n",
        "  labels.append(label)\n",
        "\n",
        "labels = np.array(labels)\n",
        "images = np.array(images)"
      ]
    },
    {
      "cell_type": "markdown",
      "metadata": {
        "id": "3c3N9sLRzme3"
      },
      "source": [
        "### Augmentation de données"
      ]
    },
    {
      "cell_type": "code",
      "execution_count": null,
      "metadata": {
        "id": "oGgj4k4DzqHE"
      },
      "outputs": [],
      "source": [
        "from copy import copy\n",
        "import cv2\n",
        "\n",
        "def dataAugment(img_input, lbl_input):\n",
        "  images = []\n",
        "  labels = []\n",
        "  for i in range(0,len(img_input)):\n",
        "    img_temp = copy(img_input[i])\n",
        "    lbl_temp = lbl_input[i]\n",
        "    # rotation\n",
        "\n",
        "    # flip H\n",
        "    flip_h = cv2.flip(img_temp,1)\n",
        "    images.append(flip_h)\n",
        "    labels.append(lbl_temp)\n",
        "\n",
        "    # flip V\n",
        "    flip_v = cv2.flip(img_temp,0)\n",
        "    images.append(flip_v)\n",
        "    labels.append(lbl_temp)\n",
        "\n",
        "  return np.array(images), np.array(labels)\n",
        "\n",
        "\n",
        "(img_augment, lbl_augment) = dataAugment(images,labels)\n",
        "\n",
        "\n",
        "images = np.concatenate((images,img_augment))\n",
        "labels = np.concatenate((labels, lbl_augment))\n",
        "\n",
        "images = np.array(images)\n",
        "labels = np.array(labels)"
      ]
    },
    {
      "cell_type": "markdown",
      "metadata": {
        "id": "_zqnslESzhoe"
      },
      "source": [
        "### Mélange des données"
      ]
    },
    {
      "cell_type": "code",
      "execution_count": null,
      "metadata": {
        "id": "i0coE3jaU4aF"
      },
      "outputs": [],
      "source": [
        "X,Y = shuffle(images,labels,random_state=1)"
      ]
    },
    {
      "cell_type": "code",
      "execution_count": null,
      "metadata": {
        "id": "A-SJ5IgxUaWb"
      },
      "outputs": [],
      "source": [
        "X_train,X_test,y_train,y_test = train_test_split(X,Y,test_size=0.1,random_state=1)\n",
        "\n",
        "# W/o data augmentation\n",
        "# X_train,X_val,y_train,y_val = train_test_split(X_train,y_train,test_size=0.2,random_state=1)\n",
        "\n",
        "# W/ data augmentation\n",
        "X_train,X_val,y_train,y_val = train_test_split(X_train,y_train,test_size=0.15,random_state=1)"
      ]
    },
    {
      "cell_type": "code",
      "execution_count": null,
      "metadata": {
        "id": "EmD9M71cVIEB"
      },
      "outputs": [],
      "source": [
        "y_train = tf.keras.utils.to_categorical(y_train, num_classes=3)\n",
        "y_val = tf.keras.utils.to_categorical(y_val, num_classes=3)\n",
        "y_test = tf.keras.utils.to_categorical(y_test, num_classes=3)\n",
        "Y = tf.keras.utils.to_categorical(Y, num_classes=3)"
      ]
    },
    {
      "cell_type": "markdown",
      "metadata": {
        "id": "2m7gi1vifsJD"
      },
      "source": [
        "## Modèle (CNN)"
      ]
    },
    {
      "cell_type": "code",
      "execution_count": null,
      "metadata": {
        "id": "8Zct3F0HfrvC"
      },
      "outputs": [],
      "source": [
        "cnn = Sequential()\n",
        "cnn.add(Conv2D(32,(7,7),padding=\"valid\",strides=1,activation='relu',input_shape=(299,299,1)))\n",
        "cnn.add(MaxPooling2D(pool_size=(2, 2),strides=1))\n",
        "cnn.add(BatchNormalization())\n",
        "cnn.add(Dropout(0.1))\n",
        "cnn.add(Conv2D(32,(9,9),padding=\"same\",strides=1,activation='relu'))\n",
        "cnn.add(MaxPooling2D(pool_size=(2, 2),strides=1))\n",
        "cnn.add(Dropout(0.1))\n",
        "cnn.add(Conv2D(32,(9,9),padding=\"same\",strides=1,activation='relu'))\n",
        "cnn.add(MaxPooling2D(pool_size=(2, 2),strides=1))\n",
        "cnn.add(Dropout(0.2))\n",
        "cnn.add(Conv2D(32,(9,9),padding=\"same\",strides=1,activation='relu'))\n",
        "cnn.add(MaxPooling2D(pool_size=(2, 2),strides=1))\n",
        "cnn.add(Dropout(0.2))\n",
        "cnn.add(Conv2D(64,(11,11),padding=\"same\",strides=1,activation='relu'))\n",
        "cnn.add(MaxPooling2D(pool_size=(2, 2),strides=1))\n",
        "cnn.add(Dropout(0.2))\n",
        "cnn.add(Conv2D(64,(11,11),padding=\"same\",strides=1,activation='relu'))\n",
        "cnn.add(MaxPooling2D(pool_size=(2, 2),strides=1))\n",
        "cnn.add(Flatten())\n",
        "cnn.add(Dense(3,activation='softmax'))"
      ]
    },
    {
      "cell_type": "code",
      "execution_count": null,
      "metadata": {
        "colab": {
          "base_uri": "https://localhost:8080/"
        },
        "id": "jdUj5m66kpVe",
        "outputId": "17d2cc32-d19d-4bd7-e462-3e5d3da227fc"
      },
      "outputs": [],
      "source": [
        "cnn.summary()"
      ]
    },
    {
      "cell_type": "code",
      "execution_count": null,
      "metadata": {
        "colab": {
          "base_uri": "https://localhost:8080/",
          "height": 235
        },
        "id": "wX1uSfvrlRqJ",
        "outputId": "9f314846-0893-4827-9418-23ee8d32d0c7"
      },
      "outputs": [],
      "source": [
        "# modele cnn\n",
        "import keras\n",
        "from keras import backend as K\n",
        "\n",
        "epochs = 15\n",
        "batch_size = 10\n",
        "\n",
        "\n",
        "callbacks = [\n",
        "    # keras.callbacks.ModelCheckpoint(\"/tmp/cnn/save_at_{epoch}.keras\"),\n",
        "    keras.callbacks.EarlyStopping(monitor=\"val_loss\",patience=3,restore_best_weights=True)\n",
        "]\n",
        "\n",
        "# optimizer = keras.optimizers.Adam(1e-3)\n",
        "optimizer = keras.optimizers.SGD(learning_rate=0.0001,momentum=0.5)\n",
        "\n",
        "cnn.compile(\n",
        "    optimizer=optimizer,\n",
        "    loss=\"categorical_crossentropy\",\n",
        "    metrics=[\"accuracy\",recall_m,precision_m,f1_m],\n",
        ")\n",
        "\n",
        "history = cnn.fit(\n",
        "    X_train,y_train,\n",
        "    epochs=epochs,\n",
        "    validation_data=(X_val,y_val),\n",
        "    shuffle=True,\n",
        "    batch_size=batch_size,\n",
        "    callbacks=callbacks\n",
        ")"
      ]
    },
    {
      "cell_type": "code",
      "execution_count": null,
      "metadata": {
        "id": "Q6BUjfigoxaN"
      },
      "outputs": [],
      "source": [
        "import matplotlib.pyplot as plt\n",
        "import seaborn as sns"
      ]
    },
    {
      "cell_type": "code",
      "execution_count": null,
      "metadata": {
        "colab": {
          "base_uri": "https://localhost:8080/",
          "height": 428
        },
        "id": "MuphInXjo0-1",
        "outputId": "28f26c57-f6d9-4f7e-f221-d42dc4db2f24"
      },
      "outputs": [],
      "source": [
        "# ACCURACY\n",
        "acc = history.history['accuracy']\n",
        "val_acc = history.history['val_accuracy']\n",
        "epochs = range(len(acc))\n",
        "fig = plt.figure(figsize=(14,7))\n",
        "plt.plot(epochs,acc,'r',label=\"Training Accuracy\")\n",
        "plt.plot(epochs,val_acc,'b',label=\"Validation Accuracy\")\n",
        "plt.legend(loc='upper left')\n",
        "plt.show()"
      ]
    },
    {
      "cell_type": "code",
      "execution_count": null,
      "metadata": {
        "colab": {
          "base_uri": "https://localhost:8080/",
          "height": 428
        },
        "id": "qJQb3DnHo_r1",
        "outputId": "3e2f58bf-50b9-4e72-eca5-3f031b28dcd6"
      },
      "outputs": [],
      "source": [
        "# LOSS\n",
        "loss = history.history['loss']\n",
        "val_loss = history.history['val_loss']\n",
        "epochs = range(len(loss))\n",
        "fig = plt.figure(figsize=(14,7))\n",
        "plt.plot(epochs,loss,'r',label=\"Training loss\")\n",
        "plt.plot(epochs,val_loss,'b',label=\"Validation loss\")\n",
        "plt.legend(loc='upper left')\n",
        "plt.show()"
      ]
    },
    {
      "cell_type": "code",
      "execution_count": null,
      "metadata": {
        "colab": {
          "base_uri": "https://localhost:8080/"
        },
        "id": "5CXAt8m7pFD7",
        "outputId": "de72cb7b-a48d-4947-d569-29efc8af9325"
      },
      "outputs": [],
      "source": [
        "# cnn.load_weights(\"/tmp/cnn/save_at_28.keras\")\n",
        "print(\"Evaluate on test data\")\n",
        "results = cnn.evaluate(X_test, y_test)\n",
        "print(\"test loss, test acc, test mse:\", results)"
      ]
    },
    {
      "cell_type": "code",
      "execution_count": null,
      "metadata": {
        "colab": {
          "base_uri": "https://localhost:8080/"
        },
        "id": "N_KlghVvrwk8",
        "outputId": "5d68e68b-d7dc-4468-e502-1ebbc704aec5"
      },
      "outputs": [],
      "source": [
        "print(\"Generate predictions for all tests\")\n",
        "predictions = cnn.predict(X_test)\n",
        "print(\"predictions shape:\", predictions.shape)\n",
        "print(y_test.shape)\n",
        "confusion_mtx_cnn = confusion_matrix(np.argmax(y_test, axis=1), np.argmax(predictions, axis=1))#tf.math.confusion_matrix(labels=tf.argmax(y_test, 1), predictions=tf.argmax(predictions, 1), num_classes=3)"
      ]
    },
    {
      "cell_type": "code",
      "execution_count": null,
      "metadata": {
        "colab": {
          "base_uri": "https://localhost:8080/",
          "height": 1000
        },
        "id": "gEYPsKCxrl3k",
        "outputId": "ebf9b101-1f0d-4f12-f504-a927bea95447"
      },
      "outputs": [],
      "source": [
        "print(\"CNN\")\n",
        "show_confusion_matrix(confusion_mtx_cnn, label_names)\n",
        "show_confusion_matrix_norm(confusion_mtx_cnn, label_names)"
      ]
    },
    {
      "cell_type": "markdown",
      "metadata": {
        "id": "EKJPL_P5cmOa"
      },
      "source": [
        "## Modèle (InceptionV3)"
      ]
    },
    {
      "cell_type": "markdown",
      "metadata": {
        "id": "BYDor2TT-Au4"
      },
      "source": [
        "### InceptionV3 no pretrained with 3 classes output"
      ]
    },
    {
      "cell_type": "code",
      "execution_count": null,
      "metadata": {
        "colab": {
          "base_uri": "https://localhost:8080/"
        },
        "id": "iKCJrFC5SLXE",
        "outputId": "57f34c13-54c5-4f2f-fa49-8b4424b304d9"
      },
      "outputs": [],
      "source": [
        "from keras.applications import InceptionV3\n",
        "from keras.models import Model\n",
        "from keras.layers import Input, Conv2D \n",
        "\n",
        "# Modèle sans freezing\n",
        "inception = InceptionV3(weights=None,include_top= 'TRUE', classes= 3) \n",
        "\n",
        "input_tensor = Input(shape=(299,299,1) )\n",
        "x = Conv2D(3,(3,3),padding='same')(input_tensor)    # x has a dimension of (IMG_SIZE,IMG_SIZE,3)\n",
        "out = inception(x) \n",
        "model = Model(inputs=input_tensor,outputs=out)\n",
        "\n",
        "model.summary()"
      ]
    },
    {
      "cell_type": "code",
      "execution_count": null,
      "metadata": {
        "colab": {
          "base_uri": "https://localhost:8080/"
        },
        "id": "8EBX5xuQWKqf",
        "outputId": "c1f74878-a253-429e-dc0a-7d6a5d3e4b19"
      },
      "outputs": [],
      "source": [
        "# modele no freeze\n",
        "import keras\n",
        "from keras import backend as K\n",
        "\n",
        "epochs = 25\n",
        "batch_size = 10\n",
        "\n",
        "\n",
        "callbacks = [\n",
        "    keras.callbacks.ModelCheckpoint(\"/tmp/model1/save_at_{epoch}.keras\"),\n",
        "    keras.callbacks.EarlyStopping(monitor=\"val_loss\",patience=5,restore_best_weights=True)\n",
        "    # keras.callbacks.ModelCheckpoint(\n",
        "    #   filepath=checkpoint_filepath_1,\n",
        "    #   save_weights_only=True,\n",
        "    #   monitor='val_loss',\n",
        "    #   mode='min',\n",
        "    #   save_best_only=True\n",
        "    #   )\n",
        "]\n",
        "\n",
        "\n",
        "\n",
        "# optimizer = keras.optimizers.Adam(1e-3)\n",
        "optimizer = keras.optimizers.SGD(learning_rate=0.0001,momentum=0.8)\n",
        "\n",
        "model.compile(\n",
        "    optimizer=optimizer,\n",
        "    loss=\"categorical_crossentropy\",\n",
        "    metrics=[\"accuracy\",recall_m,precision_m,f1_m],\n",
        ")\n",
        "\n",
        "history = model.fit(\n",
        "    X_train,y_train,\n",
        "    epochs=epochs,\n",
        "    validation_data=(X_val,y_val),\n",
        "    shuffle=True,\n",
        "    batch_size=batch_size,\n",
        "    callbacks=callbacks\n",
        ")\n",
        "\n"
      ]
    },
    {
      "cell_type": "code",
      "execution_count": null,
      "metadata": {
        "colab": {
          "base_uri": "https://localhost:8080/",
          "height": 428
        },
        "id": "BkZjInimac_F",
        "outputId": "c0efae1f-718a-4818-809c-282588477a1e"
      },
      "outputs": [],
      "source": [
        "# ACCURACY\n",
        "acc = history.history['accuracy']\n",
        "val_acc = history.history['val_accuracy']\n",
        "epochs = range(len(acc))\n",
        "fig = plt.figure(figsize=(14,7))\n",
        "plt.plot(epochs,acc,'r',label=\"Training Accuracy\")\n",
        "plt.plot(epochs,val_acc,'b',label=\"Validation Accuracy\")\n",
        "plt.legend(loc='upper left')\n",
        "plt.show()"
      ]
    },
    {
      "cell_type": "code",
      "execution_count": null,
      "metadata": {
        "colab": {
          "base_uri": "https://localhost:8080/",
          "height": 428
        },
        "id": "B04eNIUyacu1",
        "outputId": "558b29cf-031d-455b-884b-994e3b171201"
      },
      "outputs": [],
      "source": [
        "# LOSS\n",
        "loss = history.history['loss']\n",
        "val_loss = history.history['val_loss']\n",
        "epochs = range(len(loss))\n",
        "fig = plt.figure(figsize=(14,7))\n",
        "plt.plot(epochs,loss,'r',label=\"Training loss\")\n",
        "plt.plot(epochs,val_loss,'b',label=\"Validation loss\")\n",
        "plt.legend(loc='upper left')\n",
        "plt.show()"
      ]
    },
    {
      "cell_type": "code",
      "execution_count": null,
      "metadata": {
        "colab": {
          "base_uri": "https://localhost:8080/"
        },
        "id": "0hNoI5KLYnKg",
        "outputId": "fe24252c-10d8-4096-a2b4-fd1ee8a2f99e"
      },
      "outputs": [],
      "source": [
        "# model.load_weights(\"/tmp/model1/save_at_13.keras\")\n",
        "print(\"Evaluate on test data\")\n",
        "results = model.evaluate(X_test, y_test)\n",
        "print(\"test loss, test acc:\", results)"
      ]
    },
    {
      "cell_type": "code",
      "execution_count": null,
      "metadata": {
        "colab": {
          "base_uri": "https://localhost:8080/"
        },
        "id": "i1OCB8O5cWpK",
        "outputId": "b9f1bfc2-2187-4e32-8fd0-74ad8e88a835"
      },
      "outputs": [],
      "source": [
        "print(\"Generate predictions for 3 samples\")\n",
        "predictions = model.predict(X_test)\n",
        "print(\"predictions shape:\", predictions.shape)\n",
        "\n",
        "confusion_mtx = confusion_matrix(np.argmax(y_test, axis=1), np.argmax(predictions, axis=1))#tf.math.confusion_matrix(labels=tf.argmax(y_test, 1), predictions=tf.argmax(predictions, 1), num_classes=3)\n"
      ]
    },
    {
      "cell_type": "code",
      "execution_count": null,
      "metadata": {
        "colab": {
          "base_uri": "https://localhost:8080/",
          "height": 1000
        },
        "id": "pyokj8njNXxm",
        "outputId": "3377ee67-8c57-4005-b2bb-8581ef79ad5f"
      },
      "outputs": [],
      "source": [
        "print(\"Model 1\")\n",
        "show_confusion_matrix(confusion_mtx, label_names)\n",
        "show_confusion_matrix_norm(confusion_mtx, label_names)"
      ]
    },
    {
      "cell_type": "markdown",
      "metadata": {
        "id": "lnpHFbE9-Lf-"
      },
      "source": [
        "### InceptionV3 pretrained + SVM output"
      ]
    },
    {
      "cell_type": "code",
      "execution_count": null,
      "metadata": {
        "colab": {
          "base_uri": "https://localhost:8080/"
        },
        "id": "QH9hmrv89_Q_",
        "outputId": "3cf34be4-f6ba-48ed-d094-b5a0af4824c7"
      },
      "outputs": [],
      "source": [
        "from keras.applications import InceptionV3\n",
        "from keras.models import Model\n",
        "from keras.layers import Input, Conv2D\n",
        "\n",
        "# Modèle avec freezing\n",
        "inception2 = InceptionV3(weights='imagenet',include_top= False)\n",
        "inception2.trainable = False\n",
        "model2 = Sequential()\n",
        "model2.add(Conv2D(3,(3,3),padding='same',input_shape=(299,299,1)))\n",
        "model2.add(inception2)\n",
        "model2.add(Flatten())\n",
        "model2.add(Dense(3, kernel_regularizer=regularizers.l2(0.01)))\n",
        "model2.add(Activation('linear'))\n",
        "\n",
        "\n",
        "model2.summary()"
      ]
    },
    {
      "cell_type": "code",
      "execution_count": null,
      "metadata": {
        "colab": {
          "base_uri": "https://localhost:8080/"
        },
        "id": "A3hZW-kLG14D",
        "outputId": "7aa896bb-9224-4328-bb5f-b65e907e7fea"
      },
      "outputs": [],
      "source": [
        "# modele freeze + SVM\n",
        "import keras\n",
        "epochs = 100\n",
        "batch_size = 10\n",
        "\n",
        "\n",
        "callbacks = [\n",
        "    keras.callbacks.ModelCheckpoint(\"/tmp/model2/save_at_{epoch}.keras\"),\n",
        "    keras.callbacks.EarlyStopping(monitor=\"val_loss\",patience=5,restore_best_weights=True)\n",
        "    # keras.callbacks.ModelCheckpoint(\n",
        "    #   filepath=checkpoint_filepath_2,\n",
        "    #   save_weights_only=True,\n",
        "    #   monitor='val_loss',\n",
        "    #   mode='min',\n",
        "    #   save_best_only=True\n",
        "    #   )\n",
        "]\n",
        "\n",
        "\n",
        "# optimizer = keras.optimizers.SGD(learning_rate=0.0001,momentum=0.9)\n",
        "\n",
        "model2.compile(\n",
        "    loss='squared_hinge',\n",
        "    optimizer='adadelta',\n",
        "    metrics=['accuracy',recall_m,precision_m,f1_m]\n",
        ")\n",
        "\n",
        "history2 = model2.fit(\n",
        "    X_train,y_train,\n",
        "    epochs=epochs,\n",
        "    validation_data=(X_val,y_val),\n",
        "    shuffle=True,\n",
        "    batch_size=batch_size,\n",
        "    callbacks=callbacks\n",
        ")"
      ]
    },
    {
      "cell_type": "code",
      "execution_count": null,
      "metadata": {
        "colab": {
          "base_uri": "https://localhost:8080/",
          "height": 428
        },
        "id": "PTl6XqY-NKx3",
        "outputId": "e04368f9-da55-4c1a-fc07-59f1c2c2ab6b"
      },
      "outputs": [],
      "source": [
        "# ACCURACY\n",
        "acc = history2.history['accuracy']\n",
        "val_acc = history2.history['val_accuracy']\n",
        "epochs = range(len(acc))\n",
        "fig = plt.figure(figsize=(14,7))\n",
        "plt.plot(epochs,acc,'r',label=\"Training Accuracy\")\n",
        "plt.plot(epochs,val_acc,'b',label=\"Validation Accuracy\")\n",
        "plt.legend(loc='upper left')\n",
        "plt.show()"
      ]
    },
    {
      "cell_type": "code",
      "execution_count": null,
      "metadata": {
        "colab": {
          "base_uri": "https://localhost:8080/",
          "height": 428
        },
        "id": "AwnU3nSZNQba",
        "outputId": "0ee727d9-d0cc-4c6d-f10d-58257fda4623"
      },
      "outputs": [],
      "source": [
        "# LOSS\n",
        "loss = history2.history['loss']\n",
        "val_loss = history2.history['val_loss']\n",
        "epochs = range(len(loss))\n",
        "fig = plt.figure(figsize=(14,7))\n",
        "plt.plot(epochs,loss,'r',label=\"Training loss\")\n",
        "plt.plot(epochs,val_loss,'b',label=\"Validation loss\")\n",
        "plt.legend(loc='upper left')\n",
        "plt.show()"
      ]
    },
    {
      "cell_type": "code",
      "execution_count": null,
      "metadata": {
        "colab": {
          "base_uri": "https://localhost:8080/"
        },
        "id": "dquwUWDYNTqQ",
        "outputId": "2f6c9603-827d-49d8-d3ee-f86c7f1be543"
      },
      "outputs": [],
      "source": [
        "# model2.load_weights(\"/tmp/model2/save_at_50.keras\")\n",
        "print(\"Evaluate on test data\")\n",
        "results = model2.evaluate(X_test, y_test)\n",
        "print(\"test loss, test acc:\", results)"
      ]
    },
    {
      "cell_type": "code",
      "execution_count": null,
      "metadata": {
        "colab": {
          "base_uri": "https://localhost:8080/"
        },
        "id": "2P3OhX5hNbvI",
        "outputId": "5d4583ee-785e-42c1-8dd7-b685f99eec80"
      },
      "outputs": [],
      "source": [
        "print(\"Generate predictions for 3 samples\")\n",
        "predictions2 = model2.predict(X_test)\n",
        "print(\"predictions shape:\", predictions2.shape)\n",
        "\n",
        "confusion_mtx2 = confusion_matrix(np.argmax(y_test, axis=1), np.argmax(predictions2, axis=1))"
      ]
    },
    {
      "cell_type": "code",
      "execution_count": null,
      "metadata": {
        "colab": {
          "base_uri": "https://localhost:8080/",
          "height": 1000
        },
        "id": "sZbiySUyNp7m",
        "outputId": "dc6aa086-8cc4-456c-e9a5-83d26c589b72"
      },
      "outputs": [],
      "source": [
        "print(\"Model 2\")\n",
        "show_confusion_matrix(confusion_mtx2, label_names)\n",
        "show_confusion_matrix_norm(confusion_mtx2, label_names)"
      ]
    },
    {
      "cell_type": "markdown",
      "metadata": {
        "id": "yaxhdQl7PKc-"
      },
      "source": [
        "### To download weights"
      ]
    },
    {
      "cell_type": "code",
      "execution_count": null,
      "metadata": {
        "id": "VgUYOYD_4atl"
      },
      "outputs": [],
      "source": [
        "# from google.colab import files\n",
        "# files.download('/tmp/model1/save_at_13.keras')\n",
        "# files.download('/tmp/model2/save_at_8.keras')\n",
        "# files.download('/tmp/cnn/save_at_28.keras')"
      ]
    }
  ],
  "metadata": {
    "accelerator": "GPU",
    "colab": {
      "collapsed_sections": [
        "FZyT1bS_GMlB",
        "gt-lq8lynRob",
        "mNIj4JRyG-mG"
      ],
      "provenance": []
    },
    "gpuClass": "standard",
    "kernelspec": {
      "display_name": "Python 3",
      "language": "python",
      "name": "python3"
    },
    "language_info": {
      "name": "python",
      "version": "3.10.5 (tags/v3.10.5:f377153, Jun  6 2022, 16:14:13) [MSC v.1929 64 bit (AMD64)]"
    },
    "vscode": {
      "interpreter": {
        "hash": "369f2c481f4da34e4445cda3fffd2e751bd1c4d706f27375911949ba6bb62e1c"
      }
    }
  },
  "nbformat": 4,
  "nbformat_minor": 0
}
